{
  "nbformat": 4,
  "nbformat_minor": 0,
  "metadata": {
    "colab": {
      "provenance": [],
      "authorship_tag": "ABX9TyMBkzD0MoEr9qFDTcJD8mH5",
      "include_colab_link": true
    },
    "kernelspec": {
      "name": "python3",
      "display_name": "Python 3"
    },
    "language_info": {
      "name": "python"
    }
  },
  "cells": [
    {
      "cell_type": "markdown",
      "metadata": {
        "id": "view-in-github",
        "colab_type": "text"
      },
      "source": [
        "<a href=\"https://colab.research.google.com/github/RVillanueva117/Python_Tercera_Preentrega/blob/main/recupero.ipynb\" target=\"_parent\"><img src=\"https://colab.research.google.com/assets/colab-badge.svg\" alt=\"Open In Colab\"/></a>"
      ]
    },
    {
      "cell_type": "code",
      "execution_count": 1,
      "metadata": {
        "colab": {
          "base_uri": "https://localhost:8080/"
        },
        "id": "GgI3jXEXrq0b",
        "outputId": "b45aa6aa-62a8-45c0-f79f-e401180c4bc2"
      },
      "outputs": [
        {
          "output_type": "stream",
          "name": "stdout",
          "text": [
            "Inventario total: 45\n",
            "Valor total del inventario: 6350\n"
          ]
        }
      ],
      "source": [
        "# --- TERCERA PREENTREGA ---\n",
        "# Autor: Rodrigo Villanueva\n",
        "\n",
        "# Simulación de productos y ventas\n",
        "productos = [\n",
        "    {\"nombre\": \"Producto A\", \"precio\": 150, \"stock\": 20},\n",
        "    {\"nombre\": \"Producto B\", \"precio\": 90, \"stock\": 15},\n",
        "    {\"nombre\": \"Producto C\", \"precio\": 200, \"stock\": 10},\n",
        "]\n",
        "\n",
        "# Calcular el total de stock y el valor total del inventario\n",
        "total_stock = sum(p[\"stock\"] for p in productos)\n",
        "valor_total = sum(p[\"stock\"] * p[\"precio\"] for p in productos)\n",
        "\n",
        "print(\"Inventario total:\", total_stock)\n",
        "print(\"Valor total del inventario:\", valor_total)"
      ]
    },
    {
      "cell_type": "code",
      "source": [],
      "metadata": {
        "id": "7o2QMEkiruUI"
      },
      "execution_count": null,
      "outputs": []
    }
  ]
}